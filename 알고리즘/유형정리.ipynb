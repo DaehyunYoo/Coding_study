{
 "cells": [
  {
   "attachments": {},
   "cell_type": "markdown",
   "metadata": {},
   "source": [
    "# 코딩테스트 빈출 유형 정리"
   ]
  },
  {
   "attachments": {},
   "cell_type": "markdown",
   "metadata": {},
   "source": [
    "# 1. 회전\n",
    "## 1.1 zip()\n",
    "\n",
    "zip 함수: 두 그룹의 데이터를 서로 엮어주는 함수"
   ]
  },
  {
   "cell_type": "code",
   "execution_count": null,
   "metadata": {},
   "outputs": [],
   "source": [
    "# 정사각형, 직사각형 모두 동일하게 적용할 수 있는 함수\n",
    "\n",
    "arr = [[1, 2, 3, 4], [5, 6, 7, 8], [9, 10, 11, 12]]\n",
    "\n",
    "for i in arr:\n",
    "    print(i)"
   ]
  },
  {
   "cell_type": "code",
   "execution_count": null,
   "metadata": {},
   "outputs": [],
   "source": [
    "# 시계 방향으로 90도 회전(반시계 방향으로 270도 회전)\n",
    "arr_90 = list(map(list, zip(*arr[::-1]))) # zip(*arr)은 행과 열을 바꿔주는 역할을 한다. \n",
    "\n",
    "for i in arr_90:\n",
    "    print(i)"
   ]
  },
  {
   "cell_type": "code",
   "execution_count": null,
   "metadata": {},
   "outputs": [],
   "source": [
    "# 시계 방향으로 180도 회전\n",
    "arr_180 = list(map(list, zip(*arr[::-1])))[::-1] # 90도 회전한 배열을 다시 90도 회전\n",
    "\n",
    "for i in arr_180:\n",
    "    print(i)"
   ]
  },
  {
   "cell_type": "code",
   "execution_count": null,
   "metadata": {},
   "outputs": [],
   "source": [
    "# 시계 방향으로 270도 회전(반시계 방향으로 90도 회전)\n",
    "arr_270 = [x[::-1] for x in list(map(list, zip(*arr)))] # 90도 회전한 배열을 다시 180도 회전\n",
    "\n",
    "for i in arr_270:\n",
    "    print(i)"
   ]
  },
  {
   "attachments": {},
   "cell_type": "markdown",
   "metadata": {},
   "source": [
    "## 1.2 인덱스 규칙 찾아서 회전\n",
    "\n",
    "### 정사각형"
   ]
  },
  {
   "cell_type": "code",
   "execution_count": null,
   "metadata": {},
   "outputs": [],
   "source": [
    "arr = [[1, 2, 3], [4, 5, 6], [7, 8, 9]]\n",
    "n = 3 # 3x3 행렬\n",
    "\n",
    "for i in arr:\n",
    "    print(i)"
   ]
  },
  {
   "cell_type": "code",
   "execution_count": null,
   "metadata": {},
   "outputs": [],
   "source": [
    "# 시계 방향으로 90도 회전(반시계 방향으로 270도 회전)\n",
    "rotate_90 = [[0]*n for _ in range(n)] # 0으로 초기화된 3x3 행렬 생성\n",
    "\n",
    "for i in range(n):\n",
    "    for j in range(n):\n",
    "        rotate_90[j][n-1-i] = arr[i][j]\n",
    "\n",
    "for i in rotate_90:\n",
    "    print(i)"
   ]
  },
  {
   "cell_type": "code",
   "execution_count": null,
   "metadata": {},
   "outputs": [],
   "source": [
    "# 시계 방향으로 180도 회전\n",
    "\n",
    "rotate_180 = [[0]*n for _ in range(n)]\n",
    "\n",
    "for i in range(n):\n",
    "    for j in range(n):\n",
    "        rotate_180[n-1-i][n-1-j] = arr[i][j]\n",
    "        \n",
    "for i in rotate_180:\n",
    "    print(i)"
   ]
  },
  {
   "cell_type": "code",
   "execution_count": null,
   "metadata": {},
   "outputs": [],
   "source": [
    "# 시계 방향으로 270도 회전(반시계 방향으로 90도 회전)\n",
    "\n",
    "rotate_270 = [[0]*n for _ in range(n)]\n",
    "\n",
    "for i in range(n):\n",
    "    for j in range(n):\n",
    "        rotate_270[n-1-j][i] = arr[i][j]\n",
    "        \n",
    "for i in rotate_270:\n",
    "    print(i)"
   ]
  },
  {
   "attachments": {},
   "cell_type": "markdown",
   "metadata": {},
   "source": [
    "### 직사각형"
   ]
  },
  {
   "cell_type": "code",
   "execution_count": null,
   "metadata": {},
   "outputs": [],
   "source": [
    "a = [[1, 2, 3, 4] ,[5, 6, 7, 8], [9, 10, 11, 12]]"
   ]
  },
  {
   "cell_type": "code",
   "execution_count": null,
   "metadata": {},
   "outputs": [],
   "source": [
    "def rotate_90(a):\n",
    "    m = len(a)\n",
    "    n = len(a[0])\n",
    "    result = [[0]*m for _ in range(n)]\n",
    "    \n",
    "    for i in range(m):\n",
    "        for j in range(n):\n",
    "            result[j][m-1-i] = a[i][j]\n",
    "    \n",
    "    return result\n",
    "\n",
    "for x in rotate_90(a):\n",
    "    print(x)"
   ]
  },
  {
   "cell_type": "code",
   "execution_count": null,
   "metadata": {},
   "outputs": [],
   "source": [
    "def rotate_180(a):\n",
    "    m = len(a)\n",
    "    n = len(a[0])\n",
    "    result = [[0]*n for _ in range(m)]\n",
    "    \n",
    "    for i in range(m):\n",
    "        for j in range(n):\n",
    "            result[m-1-i][n-1-j] = a[i][j]\n",
    "    \n",
    "    return result\n",
    "\n",
    "for x in rotate_180(a):\n",
    "    print(x)"
   ]
  },
  {
   "cell_type": "code",
   "execution_count": null,
   "metadata": {},
   "outputs": [],
   "source": [
    "def rotate_270(a):\n",
    "    m = len(a)\n",
    "    n = len(a[0])\n",
    "    result = [[0]*m for _ in range(n)]\n",
    "    \n",
    "    for i in range(m):\n",
    "        for j in range(n):\n",
    "            result[n-1-j][i] = a[i][j]\n",
    "    \n",
    "    return result\n",
    "\n",
    "for x in rotate_270(a):\n",
    "    print(x)"
   ]
  },
  {
   "attachments": {},
   "cell_type": "markdown",
   "metadata": {},
   "source": [
    "# 2. 부분 회전"
   ]
  },
  {
   "cell_type": "code",
   "execution_count": null,
   "metadata": {},
   "outputs": [],
   "source": [
    "# 7 X 7 배열\n",
    "\n",
    "arr = []\n",
    "for j in range(7):\n",
    "    inner_list = []\n",
    "    for i in range(1, 8):\n",
    "        inner_list.append(7 * j + i)\n",
    "    arr.append(inner_list)\n",
    "    \n",
    "new_arr = [[0] * 7 for _ in range(7)]\n",
    "sy, sx = 2, 2 # 시작 좌표\n",
    "length = 3 "
   ]
  },
  {
   "cell_type": "code",
   "execution_count": null,
   "metadata": {},
   "outputs": [],
   "source": [
    "# 배열의 특정 부분(정사각형) 회전\n",
    "\n",
    "def rotate_90(sy, sx, length): # sy, sx는 시작 좌표, length는 변의 길이\n",
    "    global arr, new_arr\n",
    "    \n",
    "    # 정사각형을 90도 회전\n",
    "    for y in range(sy, sx + length):\n",
    "        for x in range(sx, sx + length):\n",
    "            # 1. 시작 좌표를 (0, 0)으로 만들기 위해 시작 좌표를 빼준다.\n",
    "            oy, ox = y - sy, x - sx\n",
    "            # 2. 90도 회전한 좌표를 구한다.\n",
    "            ry, rx = ox, length - 1 - oy\n",
    "            # 3. 시작 좌표를 다시 더해준다.\n",
    "            new_arr[sy + ry][sx + rx] = arr[y][x]\n",
    "\n",
    "    # new_arr 값을 arr에 복사\n",
    "    for y in range(sy, sy + length):\n",
    "        for x in range(sx, sx + length):\n",
    "            arr[y][x] = new_arr[y][x]\n",
    "            \n",
    "rotate_90(sy, sx, length)\n",
    "\n",
    "for i in range(len(arr)):\n",
    "    print(arr[i])"
   ]
  },
  {
   "attachments": {},
   "cell_type": "markdown",
   "metadata": {},
   "source": [
    "# 3. 순열, 중복 순열, 조합, 중복 조합\n",
    "## 3.1 순열(Permutations)"
   ]
  },
  {
   "cell_type": "code",
   "execution_count": null,
   "metadata": {},
   "outputs": [],
   "source": [
    "arr = [1, 2, 3, 4]\n",
    "visited = [0] * len(arr)  \n",
    "\n",
    "# 뽑을 개수, 뽑힌 값을 담는 배열\n",
    "def permutations(n, new_arr):\n",
    "    global arr\n",
    "    # 순서 상관 O, 중복 X\n",
    "    if len(new_arr) == n:\n",
    "        print(new_arr)\n",
    "        return\n",
    "\n",
    "    for i in range(len(arr)):\n",
    "        if not visited[i]:\n",
    "            visited[i] = 1\n",
    "            permutations(n, new_arr + [arr[i]])\n",
    "            visited[i] = 0\n",
    "\n",
    "\n",
    "permutations(2, [])"
   ]
  },
  {
   "attachments": {},
   "cell_type": "markdown",
   "metadata": {},
   "source": [
    "## 3.2 중복 순열(Product)"
   ]
  },
  {
   "cell_type": "code",
   "execution_count": null,
   "metadata": {},
   "outputs": [],
   "source": [
    "arr = [1, 2, 3, 4]\n",
    "def product(n, new_arr):\n",
    "    global arr\n",
    "\n",
    "    # 순서 상관 O, 중복 O\n",
    "    if len(new_arr) == n:\n",
    "        print(new_arr)\n",
    "        return\n",
    "\n",
    "    for i in range(len(arr)):\n",
    "        product(n, new_arr + [arr[i]])\n",
    "\n",
    "product(2, [])"
   ]
  },
  {
   "attachments": {},
   "cell_type": "markdown",
   "metadata": {},
   "source": [
    "## 3.3 조합(Combinations)"
   ]
  },
  {
   "cell_type": "code",
   "execution_count": null,
   "metadata": {},
   "outputs": [],
   "source": [
    "arr = [1, 2, 3, 4]\n",
    "\n",
    "def combinations(n, new_arr, c):\n",
    "\n",
    "    # 순서 상관 X, 중복 X\n",
    "    if len(new_arr) == n:\n",
    "        print(new_arr)\n",
    "        return\n",
    "\n",
    "    for i in range(c, len(arr)):\n",
    "        combinations(n, new_arr + [arr[i]], i + 1)\n",
    "\n",
    "\n",
    "combinations(2, [], 0)"
   ]
  },
  {
   "attachments": {},
   "cell_type": "markdown",
   "metadata": {},
   "source": [
    "## 3.4 중복 조합(Combinations with replacement)"
   ]
  },
  {
   "cell_type": "code",
   "execution_count": null,
   "metadata": {},
   "outputs": [],
   "source": [
    "arr = [1, 2, 3, 4]\n",
    "\n",
    "def combinations_with_replacement(n, new_arr, c):\n",
    "\n",
    "    # 순서 상관 X, 중복 O\n",
    "    if len(new_arr) == n:\n",
    "        print(new_arr)\n",
    "        return\n",
    "\n",
    "    for i in range(c, len(arr)):\n",
    "        combinations(n, new_arr + [arr[i]], i)\n",
    "\n",
    "\n",
    "combinations_with_replacement(2, [], 0)"
   ]
  },
  {
   "attachments": {},
   "cell_type": "markdown",
   "metadata": {},
   "source": [
    "# 4. 중력\n",
    "## 바닥까지 하강"
   ]
  },
  {
   "cell_type": "code",
   "execution_count": null,
   "metadata": {},
   "outputs": [],
   "source": [
    "arr = [[0, 1, 0], [1, 0, 1], [0, 1, 0], [0, 0, 1], [0, 1, 0]]\n",
    "\n",
    "print(\"Before\")\n",
    "for i in range(len(arr)):\n",
    "    print(arr[i])\n",
    "\n",
    "\n",
    "def gravity():\n",
    "    n = len(arr)\n",
    "    m = len(arr[0])\n",
    "    for i in range(n - 1):\n",
    "        for j in range(m):\n",
    "            p = i\n",
    "            while 0 <= p and arr[p][j] == 1 and arr[p + 1][j] == 0: # 1이면서 아래가 0인 경우\n",
    "                arr[p][j], arr[p + 1][j] = arr[p + 1][j], arr[p][j] # [p][j]와 [p+1][j]를 교환\n",
    "                p -= 1\n",
    "\n",
    "\n",
    "gravity()\n",
    "\n",
    "print(\"After\")\n",
    "for i in range(len(arr)):\n",
    "    print(arr[i])"
   ]
  },
  {
   "attachments": {},
   "cell_type": "markdown",
   "metadata": {},
   "source": [
    "# 5. 나선형 배열\n",
    "## 안에서 밖으로"
   ]
  },
  {
   "cell_type": "code",
   "execution_count": null,
   "metadata": {},
   "outputs": [],
   "source": [
    "arr = [[0] * 5 for _ in range(5)]\n",
    "\n",
    "def tornado():\n",
    "    global arr\n",
    "    d = [(0, -1), (1, 0), (0, 1), (-1, 0)]\n",
    "    y = len(arr) // 2\n",
    "    x = len(arr) // 2\n",
    "    num = 0  \n",
    "    dist = 1\n",
    "    d_idx = 0  # 서 남 동 북 순서\n",
    "    move_count = 0  # 2가 되면 dist 길이가 1 늘어나고 move_count는 다시 0으로 초기화\n",
    "    while True:\n",
    "        for _ in range(dist):\n",
    "            dy, dx = d[d_idx]\n",
    "            Y = dy + y\n",
    "            X = dx + x\n",
    "            if (Y, X) == (0, -1):  # 0행 -1열이 토네이도가 모두 끝나고 나서의 위치임\n",
    "                return\n",
    "            num += 1\n",
    "            arr[Y][X] = num\n",
    "            y = Y\n",
    "            x = X\n",
    "        move_count += 1\n",
    "        d_idx = (d_idx + 1) % 4\n",
    "        if move_count == 2:\n",
    "            dist += 1\n",
    "            move_count = 0\n",
    "\n",
    "\n",
    "tornado()\n",
    "\n",
    "for i in range(5):\n",
    "    print(arr[i])"
   ]
  },
  {
   "attachments": {},
   "cell_type": "markdown",
   "metadata": {},
   "source": [
    "## 밖에서 안으로"
   ]
  },
  {
   "cell_type": "code",
   "execution_count": null,
   "metadata": {},
   "outputs": [],
   "source": [
    "def solution(n):\n",
    "    if n == 1:\n",
    "        return [[1]]\n",
    "\n",
    "    answer = [[0 for j in range(n)] for i in range(n)]  # 배열 초기화\n",
    "\n",
    "    x = 0\n",
    "    y = 0\n",
    "    d_idx=0\n",
    "\n",
    "    for i in range(n * n):\n",
    "        answer[x][y] = i + 1\n",
    "        if d_idx == 0:\n",
    "            y += 1\n",
    "            if y == n - 1 or answer[x][y + 1] != 0:  # 맨 끝에 도달했거나 가려는 곳에 이미 값이 있으면 방향 전환\n",
    "                d_idx = 1\n",
    "        elif d_idx == 1:\n",
    "            x += 1\n",
    "            if x == n - 1 or answer[x + 1][y] != 0:\n",
    "                d_idx = 2\n",
    "        elif d_idx == 2:\n",
    "            y -= 1\n",
    "            if y == 0 or answer[x][y - 1] != 0:\n",
    "                d_idx = 3\n",
    "        elif d_idx == 3:\n",
    "            x -= 1\n",
    "            if x == n - 1 or answer[x - 1][y] != 0:\n",
    "                d_idx = 0\n",
    "\n",
    "    return answer\n",
    "\n",
    "\n",
    "arr=solution(5)\n",
    "for i in range(len(arr)):\n",
    "    print(arr[i])"
   ]
  },
  {
   "attachments": {},
   "cell_type": "markdown",
   "metadata": {},
   "source": [
    "# 6. 이동 중 벽에 부딪혀서 방향이 전환되는 경우"
   ]
  },
  {
   "cell_type": "code",
   "execution_count": null,
   "metadata": {},
   "outputs": [],
   "source": [
    "def get_next_loc(i, j, speed, dir):\n",
    "\n",
    "    if dir == UP or dir == DOWN:  # i\n",
    "        cycle = R * 2 - 2\n",
    "        if dir == UP:\n",
    "            speed += 2 * (R - 1) - i\n",
    "        else:\n",
    "            speed += i\n",
    "\n",
    "        speed %= cycle\n",
    "        if speed >= R:\n",
    "            return (2 * R - 2 - speed, j, UP)\n",
    "        return (speed, j, DOWN)\n",
    "\n",
    "    else:  # j\n",
    "        cycle = C * 2 - 2\n",
    "        if dir == LEFT:\n",
    "            speed += 2 * (C - 1) - j\n",
    "        else:\n",
    "            speed += j\n",
    "\n",
    "        speed %= cycle\n",
    "        if speed >= C:\n",
    "            return (i, 2 * C - 2 - speed, LEFT)\n",
    "        return (i, speed, RIGHT)"
   ]
  },
  {
   "attachments": {},
   "cell_type": "markdown",
   "metadata": {},
   "source": [
    "# 7. 배열 한 칸씩 돌리기"
   ]
  },
  {
   "cell_type": "code",
   "execution_count": null,
   "metadata": {},
   "outputs": [],
   "source": [
    "from collections import deque\n",
    "\n",
    "N, M, R = map(int, input().split())\n",
    "\n",
    "arr = []\n",
    "new_arr = [[0]*M for _ in range(N)]\n",
    "q = deque()\n",
    "\n",
    "for i in range(N):\n",
    "    arr.append(list(input().split()))\n",
    "\n",
    "loops = min(N, M) // 2\n",
    "for i in range(loops):\n",
    "    q.clear()\n",
    "    q.extend(arr[i][i:M-i])\n",
    "    q.extend([row[M-i-1] for row in arr[i+1:N-i-1]])\n",
    "    q.extend(arr[N-i-1][i:M-i][::-1])\n",
    "    q.extend([row[i] for row in arr[i+1:N-i-1]][::-1])\n",
    "    \n",
    "    q.rotate(-R)\n",
    "    \n",
    "    for j in range(i, M-i):                 # 상\n",
    "        new_arr[i][j] = q.popleft()\n",
    "    for j in range(i+1, N-i-1):             # 우\n",
    "        new_arr[j][M-i-1] = q.popleft()\n",
    "    for j in range(M-i-1, i-1, -1):           # 하\n",
    "        new_arr[N-i-1][j] = q.popleft()  \n",
    "    for j in range(N-i-2, i, -1):           # 좌\n",
    "        new_arr[j][i] = q.popleft()    \n",
    "\n",
    "return new_arr"
   ]
  },
  {
   "cell_type": "code",
   "execution_count": null,
   "metadata": {},
   "outputs": [],
   "source": []
  }
 ],
 "metadata": {
  "kernelspec": {
   "display_name": "Python 3",
   "language": "python",
   "name": "python3"
  },
  "language_info": {
   "codemirror_mode": {
    "name": "ipython",
    "version": 3
   },
   "file_extension": ".py",
   "mimetype": "text/x-python",
   "name": "python",
   "nbconvert_exporter": "python",
   "pygments_lexer": "ipython3",
   "version": "3.9.6"
  },
  "orig_nbformat": 4
 },
 "nbformat": 4,
 "nbformat_minor": 2
}
