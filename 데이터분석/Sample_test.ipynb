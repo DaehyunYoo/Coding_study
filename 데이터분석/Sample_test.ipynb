{
 "cells": [
  {
   "attachments": {},
   "cell_type": "markdown",
   "metadata": {},
   "source": [
    "# 데이터분석 과제테스트 예시 문제 & 답안"
   ]
  },
  {
   "cell_type": "code",
   "execution_count": 1,
   "metadata": {},
   "outputs": [],
   "source": [
    "import pandas as pd\n",
    "import numpy as np\n",
    "from sklearn.model_selection import train_test_split\n",
    "from sklearn.preprocessing import StandardScaler\n",
    "import matplotlib.pyplot as plt"
   ]
  },
  {
   "cell_type": "code",
   "execution_count": 2,
   "metadata": {},
   "outputs": [],
   "source": [
    "# 샘플 데이터 생성\n",
    "np.random.seed(42)\n",
    "df = pd.DataFrame({\n",
    "    'age': np.random.randint(20, 70, 1000),\n",
    "    'income': np.random.normal(50000, 20000, 1000),\n",
    "    'education_years': np.random.randint(9, 22, 1000),\n",
    "    'satisfaction': np.random.randint(1, 6, 1000),\n",
    "    'department': np.random.choice(['Sales', 'IT', 'HR', 'Finance'], 1000)\n",
    "})"
   ]
  },
  {
   "cell_type": "code",
   "execution_count": 3,
   "metadata": {},
   "outputs": [],
   "source": [
    "# 일부 결측치 생성\n",
    "df.loc[np.random.choice(df.index, 50), 'income'] = np.nan\n",
    "df.loc[np.random.choice(df.index, 30), 'satisfaction'] = np.nan"
   ]
  },
  {
   "cell_type": "code",
   "execution_count": 4,
   "metadata": {},
   "outputs": [
    {
     "data": {
      "text/html": [
       "<div>\n",
       "<style scoped>\n",
       "    .dataframe tbody tr th:only-of-type {\n",
       "        vertical-align: middle;\n",
       "    }\n",
       "\n",
       "    .dataframe tbody tr th {\n",
       "        vertical-align: top;\n",
       "    }\n",
       "\n",
       "    .dataframe thead th {\n",
       "        text-align: right;\n",
       "    }\n",
       "</style>\n",
       "<table border=\"1\" class=\"dataframe\">\n",
       "  <thead>\n",
       "    <tr style=\"text-align: right;\">\n",
       "      <th></th>\n",
       "      <th>age</th>\n",
       "      <th>income</th>\n",
       "      <th>education_years</th>\n",
       "      <th>satisfaction</th>\n",
       "      <th>department</th>\n",
       "    </tr>\n",
       "  </thead>\n",
       "  <tbody>\n",
       "    <tr>\n",
       "      <th>0</th>\n",
       "      <td>58</td>\n",
       "      <td>37658.191834</td>\n",
       "      <td>16</td>\n",
       "      <td>3.0</td>\n",
       "      <td>Sales</td>\n",
       "    </tr>\n",
       "    <tr>\n",
       "      <th>1</th>\n",
       "      <td>48</td>\n",
       "      <td>24823.159169</td>\n",
       "      <td>21</td>\n",
       "      <td>3.0</td>\n",
       "      <td>HR</td>\n",
       "    </tr>\n",
       "    <tr>\n",
       "      <th>2</th>\n",
       "      <td>34</td>\n",
       "      <td>73776.020153</td>\n",
       "      <td>20</td>\n",
       "      <td>4.0</td>\n",
       "      <td>Sales</td>\n",
       "    </tr>\n",
       "    <tr>\n",
       "      <th>3</th>\n",
       "      <td>62</td>\n",
       "      <td>49173.831388</td>\n",
       "      <td>18</td>\n",
       "      <td>5.0</td>\n",
       "      <td>HR</td>\n",
       "    </tr>\n",
       "    <tr>\n",
       "      <th>4</th>\n",
       "      <td>27</td>\n",
       "      <td>NaN</td>\n",
       "      <td>14</td>\n",
       "      <td>5.0</td>\n",
       "      <td>Finance</td>\n",
       "    </tr>\n",
       "  </tbody>\n",
       "</table>\n",
       "</div>"
      ],
      "text/plain": [
       "   age        income  education_years  satisfaction department\n",
       "0   58  37658.191834               16           3.0      Sales\n",
       "1   48  24823.159169               21           3.0         HR\n",
       "2   34  73776.020153               20           4.0      Sales\n",
       "3   62  49173.831388               18           5.0         HR\n",
       "4   27           NaN               14           5.0    Finance"
      ]
     },
     "execution_count": 4,
     "metadata": {},
     "output_type": "execute_result"
    }
   ],
   "source": [
    "df.head()"
   ]
  },
  {
   "attachments": {},
   "cell_type": "markdown",
   "metadata": {},
   "source": [
    "## 1. 결측치 처리"
   ]
  },
  {
   "cell_type": "code",
   "execution_count": 5,
   "metadata": {},
   "outputs": [
    {
     "data": {
      "text/plain": [
       "age                 0\n",
       "income             49\n",
       "education_years     0\n",
       "satisfaction       29\n",
       "department          0\n",
       "dtype: int64"
      ]
     },
     "execution_count": 5,
     "metadata": {},
     "output_type": "execute_result"
    }
   ],
   "source": [
    "df.isnull().sum()"
   ]
  },
  {
   "cell_type": "code",
   "execution_count": 6,
   "metadata": {},
   "outputs": [
    {
     "name": "stderr",
     "output_type": "stream",
     "text": [
      "/tmp/ipykernel_26372/1704428518.py:1: FutureWarning: A value is trying to be set on a copy of a DataFrame or Series through chained assignment using an inplace method.\n",
      "The behavior will change in pandas 3.0. This inplace method will never work because the intermediate object on which we are setting values always behaves as a copy.\n",
      "\n",
      "For example, when doing 'df[col].method(value, inplace=True)', try using 'df.method({col: value}, inplace=True)' or df[col] = df[col].method(value) instead, to perform the operation inplace on the original object.\n",
      "\n",
      "\n",
      "  df['income'].fillna(df['income'].mean(), inplace = True)\n"
     ]
    }
   ],
   "source": [
    "df['income'].fillna(df['income'].mean(), inplace = True)"
   ]
  },
  {
   "attachments": {},
   "cell_type": "markdown",
   "metadata": {},
   "source": [
    "## 2. 이상치 처리"
   ]
  },
  {
   "cell_type": "code",
   "execution_count": 10,
   "metadata": {},
   "outputs": [],
   "source": [
    "# IQRT를 이용한 이상치 제거\n",
    "Q1 = df['age'].quantile(0.25)\n",
    "Q3 = df['age'].quantile(0.75)\n",
    "IQR = Q3 - Q1\n",
    "lower_bound = Q1 - 1.5 * IQR\n",
    "upper_bound = Q3 + 1.5 * IQR\n",
    "outliers = df[(df['age'] < lower_bound) | (df['age'] > upper_bound)]"
   ]
  },
  {
   "attachments": {},
   "cell_type": "markdown",
   "metadata": {},
   "source": [
    "## 3. 데이터 정규화"
   ]
  },
  {
   "cell_type": "code",
   "execution_count": 11,
   "metadata": {},
   "outputs": [],
   "source": [
    "scaler = StandardScaler()\n",
    "df['income_standardized'] = scaler.fit_transform(df[['income']])"
   ]
  },
  {
   "attachments": {},
   "cell_type": "markdown",
   "metadata": {},
   "source": [
    "## 4. 그룹별 통계"
   ]
  },
  {
   "cell_type": "code",
   "execution_count": 12,
   "metadata": {},
   "outputs": [
    {
     "data": {
      "text/plain": [
       "department\n",
       "Finance    53584.231422\n",
       "HR         52428.853023\n",
       "Sales      51429.212061\n",
       "IT         49050.391437\n",
       "Name: income, dtype: float64"
      ]
     },
     "execution_count": 12,
     "metadata": {},
     "output_type": "execute_result"
    }
   ],
   "source": [
    "\"\"\"\n",
    "문제 4: 그룹별 통계\n",
    "부서(department)별 평균 급여(income)를 계산하고, 내림차순으로 정렬하시오.\n",
    "\"\"\"\n",
    "dept_income = df.groupby('department')['income'].mean().sort_values(ascending=False)\n",
    "dept_income"
   ]
  },
  {
   "attachments": {},
   "cell_type": "markdown",
   "metadata": {},
   "source": [
    "## 5. 조건부 필터링\n",
    "\n",
    "나이가 30세 이상이고 수입이 전체 평균 수입보다 높은 직원의 수를 구하시오."
   ]
  },
  {
   "cell_type": "code",
   "execution_count": 13,
   "metadata": {},
   "outputs": [
    {
     "data": {
      "text/plain": [
       "389"
      ]
     },
     "execution_count": 13,
     "metadata": {},
     "output_type": "execute_result"
    }
   ],
   "source": [
    "condition = (df['age'] >= 30) & (df['income'] > df['income'].mean())\n",
    "len(df[condition])"
   ]
  },
  {
   "attachments": {},
   "cell_type": "markdown",
   "metadata": {},
   "source": [
    "## 6. 새로운 피처 생성\n",
    "\n",
    "수입을 나이로 나눈 새로운 칼럼 'income_per_age'를 생성하시오."
   ]
  },
  {
   "cell_type": "code",
   "execution_count": 14,
   "metadata": {},
   "outputs": [
    {
     "data": {
      "text/plain": [
       "0       649.279170\n",
       "1       517.149149\n",
       "2      2169.882946\n",
       "3       793.126313\n",
       "4      1914.258943\n",
       "          ...     \n",
       "995     814.879786\n",
       "996    1549.479054\n",
       "997    1269.518596\n",
       "998    1206.125728\n",
       "999    1030.672994\n",
       "Name: income_per_age, Length: 1000, dtype: float64"
      ]
     },
     "execution_count": 14,
     "metadata": {},
     "output_type": "execute_result"
    }
   ],
   "source": [
    "df['income_per_age'] = df['income'] / df['age']\n",
    "df['income_per_age']"
   ]
  },
  {
   "attachments": {},
   "cell_type": "markdown",
   "metadata": {},
   "source": [
    "## 7. 상관관계 분석\n",
    "\n",
    "수치형 변수들 간의 상관관계를 계산하고, 가장 강한 상관관계를 가진 변수 쌍을 찾으시오."
   ]
  },
  {
   "cell_type": "code",
   "execution_count": 15,
   "metadata": {},
   "outputs": [
    {
     "data": {
      "text/plain": [
       "('income_standardized', 'income_per_age')"
      ]
     },
     "execution_count": 15,
     "metadata": {},
     "output_type": "execute_result"
    }
   ],
   "source": [
    "corr_matrix = df.select_dtypes(include=[np.number]).corr()\n",
    "corr_matrix = corr_matrix.abs().unstack()\n",
    "corr_matrix = corr_matrix[corr_matrix < 1.0]\n",
    "max_corr = corr_matrix.max()\n",
    "max_corr_pairs = corr_matrix[corr_matrix == max_corr].index.tolist()\n",
    "\n",
    "max_corr_pairs[0]"
   ]
  },
  {
   "attachments": {},
   "cell_type": "markdown",
   "metadata": {},
   "source": [
    "## 8. 범주형 데이터 처리\n",
    "\n",
    "'department' 칼럼을 원-핫 인코딩으로 변환하시오."
   ]
  },
  {
   "cell_type": "code",
   "execution_count": 18,
   "metadata": {},
   "outputs": [
    {
     "data": {
      "text/html": [
       "<div>\n",
       "<style scoped>\n",
       "    .dataframe tbody tr th:only-of-type {\n",
       "        vertical-align: middle;\n",
       "    }\n",
       "\n",
       "    .dataframe tbody tr th {\n",
       "        vertical-align: top;\n",
       "    }\n",
       "\n",
       "    .dataframe thead th {\n",
       "        text-align: right;\n",
       "    }\n",
       "</style>\n",
       "<table border=\"1\" class=\"dataframe\">\n",
       "  <thead>\n",
       "    <tr style=\"text-align: right;\">\n",
       "      <th></th>\n",
       "      <th>age</th>\n",
       "      <th>income</th>\n",
       "      <th>education_years</th>\n",
       "      <th>satisfaction</th>\n",
       "      <th>department</th>\n",
       "      <th>income_standardized</th>\n",
       "      <th>income_per_age</th>\n",
       "    </tr>\n",
       "  </thead>\n",
       "  <tbody>\n",
       "    <tr>\n",
       "      <th>0</th>\n",
       "      <td>58</td>\n",
       "      <td>37658.191834</td>\n",
       "      <td>16</td>\n",
       "      <td>3.0</td>\n",
       "      <td>Sales</td>\n",
       "      <td>-0.681640</td>\n",
       "      <td>649.279170</td>\n",
       "    </tr>\n",
       "    <tr>\n",
       "      <th>1</th>\n",
       "      <td>48</td>\n",
       "      <td>24823.159169</td>\n",
       "      <td>21</td>\n",
       "      <td>3.0</td>\n",
       "      <td>HR</td>\n",
       "      <td>-1.305366</td>\n",
       "      <td>517.149149</td>\n",
       "    </tr>\n",
       "    <tr>\n",
       "      <th>2</th>\n",
       "      <td>34</td>\n",
       "      <td>73776.020153</td>\n",
       "      <td>20</td>\n",
       "      <td>4.0</td>\n",
       "      <td>Sales</td>\n",
       "      <td>1.073526</td>\n",
       "      <td>2169.882946</td>\n",
       "    </tr>\n",
       "    <tr>\n",
       "      <th>3</th>\n",
       "      <td>62</td>\n",
       "      <td>49173.831388</td>\n",
       "      <td>18</td>\n",
       "      <td>5.0</td>\n",
       "      <td>HR</td>\n",
       "      <td>-0.122031</td>\n",
       "      <td>793.126313</td>\n",
       "    </tr>\n",
       "    <tr>\n",
       "      <th>4</th>\n",
       "      <td>27</td>\n",
       "      <td>51684.991463</td>\n",
       "      <td>14</td>\n",
       "      <td>5.0</td>\n",
       "      <td>Finance</td>\n",
       "      <td>0.000000</td>\n",
       "      <td>1914.258943</td>\n",
       "    </tr>\n",
       "  </tbody>\n",
       "</table>\n",
       "</div>"
      ],
      "text/plain": [
       "   age        income  education_years  satisfaction department  \\\n",
       "0   58  37658.191834               16           3.0      Sales   \n",
       "1   48  24823.159169               21           3.0         HR   \n",
       "2   34  73776.020153               20           4.0      Sales   \n",
       "3   62  49173.831388               18           5.0         HR   \n",
       "4   27  51684.991463               14           5.0    Finance   \n",
       "\n",
       "   income_standardized  income_per_age  \n",
       "0            -0.681640      649.279170  \n",
       "1            -1.305366      517.149149  \n",
       "2             1.073526     2169.882946  \n",
       "3            -0.122031      793.126313  \n",
       "4             0.000000     1914.258943  "
      ]
     },
     "execution_count": 18,
     "metadata": {},
     "output_type": "execute_result"
    }
   ],
   "source": [
    "dept_dummies = pd.get_dummies(df['department'], prefix='dept')\n",
    "pd.concat([df, dept_dummies], axis=1)\n",
    "df.head()"
   ]
  },
  {
   "attachments": {},
   "cell_type": "markdown",
   "metadata": {},
   "source": [
    "## 9. 데이터 시각화\n",
    "\n",
    "연령대별 평균 수입을 보여주는 막대 그래프를 생성하시오.\n",
    "(연령대는 10살 단위로 구분)"
   ]
  },
  {
   "cell_type": "code",
   "execution_count": 19,
   "metadata": {},
   "outputs": [
    {
     "name": "stderr",
     "output_type": "stream",
     "text": [
      "/tmp/ipykernel_26372/1384337533.py:2: FutureWarning: The default of observed=False is deprecated and will be changed to True in a future version of pandas. Pass observed=False to retain current behavior or observed=True to adopt the future default and silence this warning.\n",
      "  age_income = df.groupby('age_group')['income'].mean()\n"
     ]
    },
    {
     "data": {
      "image/png": "[encoded data removed]",
      "text/plain": [
       "<Figure size 1000x600 with 1 Axes>"
      ]
     },
     "metadata": {},
     "output_type": "display_data"
    }
   ],
   "source": [
    "df['age_group'] = pd.cut(df['age'], bins=range(20, 71, 10), labels=['20s', '30s', '40s', '50s', '60s'])\n",
    "age_income = df.groupby('age_group')['income'].mean()\n",
    "\n",
    "plt.figure(figsize=(10, 6))\n",
    "age_income.plot(kind='bar')\n",
    "plt.title('Average Income by Age Group')\n",
    "plt.xlabel('Age Group')\n",
    "plt.ylabel('Average Income')\n",
    "plt.show()"
   ]
  },
  {
   "cell_type": "code",
   "execution_count": null,
   "metadata": {},
   "outputs": [],
   "source": []
  }
 ],
 "metadata": {
  "kernelspec": {
   "display_name": "ML",
   "language": "python",
   "name": "python3"
  },
  "language_info": {
   "codemirror_mode": {
    "name": "ipython",
    "version": 3
   },
   "file_extension": ".py",
   "mimetype": "text/x-python",
   "name": "python",
   "nbconvert_exporter": "python",
   "pygments_lexer": "ipython3",
   "version": "3.9.18"
  },
  "orig_nbformat": 4
 },
 "nbformat": 4,
 "nbformat_minor": 2
}
