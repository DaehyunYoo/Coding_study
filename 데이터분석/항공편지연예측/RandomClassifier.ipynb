{
 "cells": [
  {
   "cell_type": "code",
   "execution_count": 14,
   "metadata": {},
   "outputs": [],
   "source": [
    "import random\n",
    "import os\n",
    "import numpy as np\n",
    "import pandas as pd\n",
    "from sklearn.preprocessing import LabelEncoder, StandardScaler\n",
    "from sklearn.model_selection import train_test_split, GridSearchCV, StratifiedKFold\n",
    "from sklearn.metrics import accuracy_score, f1_score, precision_score, recall_score\n",
    "from xgboost import XGBClassifier"
   ]
  },
  {
   "cell_type": "code",
   "execution_count": 15,
   "metadata": {},
   "outputs": [],
   "source": [
    "# Set random seed for reproducibility\n",
    "def seed_everything(seed):\n",
    "    random.seed(seed)\n",
    "    os.environ['PYTHONHASHSEED'] = str(seed)\n",
    "    np.random.seed(seed)\n",
    "\n",
    "seed_everything(42)"
   ]
  },
  {
   "cell_type": "code",
   "execution_count": 16,
   "metadata": {},
   "outputs": [
    {
     "name": "stdout",
     "output_type": "stream",
     "text": [
      "Loading data...\n",
      "Data loaded successfully\n"
     ]
    }
   ],
   "source": [
    "# Load data directly from CSV\n",
    "print('Loading data...')\n",
    "train = pd.read_csv('train.csv')\n",
    "test = pd.read_csv('test.csv')\n",
    "sample_submission = pd.read_csv('sample_submission.csv', index_col=0)\n",
    "print('Data loaded successfully')"
   ]
  },
  {
   "cell_type": "code",
   "execution_count": 17,
   "metadata": {},
   "outputs": [
    {
     "name": "stdout",
     "output_type": "stream",
     "text": [
      "Handling missing values...\n",
      "Missing values handled\n"
     ]
    }
   ],
   "source": [
    "# Handle missing values\n",
    "print('Handling missing values...')\n",
    "NaN_col = ['Origin_State', 'Destination_State', 'Airline', \n",
    "           'Estimated_Departure_Time', 'Estimated_Arrival_Time',\n",
    "           'Carrier_Code(IATA)', 'Carrier_ID(DOT)']\n",
    "\n",
    "for col in NaN_col:\n",
    "    mode = train[col].mode()[0]\n",
    "    train[col] = train[col].fillna(mode)\n",
    "    \n",
    "    if col in test.columns:\n",
    "        test[col] = test[col].fillna(mode)\n",
    "print('Missing values handled')"
   ]
  },
  {
   "cell_type": "code",
   "execution_count": 18,
   "metadata": {},
   "outputs": [
    {
     "name": "stdout",
     "output_type": "stream",
     "text": [
      "Encoding categorical variables...\n",
      "Categorical variables encoded\n"
     ]
    }
   ],
   "source": [
    "# Encode categorical variables\n",
    "print('Encoding categorical variables...')\n",
    "qual_col = ['Origin_Airport', 'Origin_State', 'Destination_Airport', \n",
    "            'Destination_State', 'Airline', 'Carrier_Code(IATA)', 'Tail_Number']\n",
    "\n",
    "for col in qual_col:\n",
    "    le = LabelEncoder()\n",
    "    le = le.fit(train[col])\n",
    "    train[col] = le.transform(train[col])\n",
    "    \n",
    "    # Handle new categories in test data\n",
    "    for label in np.unique(test[col]):\n",
    "        if label not in le.classes_:\n",
    "            le.classes_ = np.append(le.classes_, label)\n",
    "    test[col] = le.transform(test[col])\n",
    "print('Categorical variables encoded')"
   ]
  },
  {
   "cell_type": "code",
   "execution_count": 19,
   "metadata": {},
   "outputs": [
    {
     "name": "stdout",
     "output_type": "stream",
     "text": [
      "Preparing target variable...\n"
     ]
    }
   ],
   "source": [
    "# Remove rows with missing target variable\n",
    "print('Preparing target variable...')\n",
    "train = train.dropna(subset=['Delay'])"
   ]
  },
  {
   "cell_type": "code",
   "execution_count": 20,
   "metadata": {},
   "outputs": [],
   "source": [
    "# Encode target variable\n",
    "le = LabelEncoder()\n",
    "train['Delay_num'] = le.fit_transform(train['Delay'])"
   ]
  },
  {
   "cell_type": "code",
   "execution_count": 21,
   "metadata": {},
   "outputs": [],
   "source": [
    "# Prepare features and target\n",
    "train_x = train.drop(columns=['ID', 'Delay', 'Delay_num'])\n",
    "train_y = train['Delay_num']\n",
    "test_x = test.drop(columns=['ID'])"
   ]
  },
  {
   "cell_type": "code",
   "execution_count": 22,
   "metadata": {},
   "outputs": [
    {
     "name": "stdout",
     "output_type": "stream",
     "text": [
      "Splitting training data...\n"
     ]
    }
   ],
   "source": [
    "# Split data\n",
    "print('Splitting training data...')\n",
    "train_x, val_x, train_y, val_y = train_test_split(train_x, train_y, \n",
    "                                                 test_size=0.2, \n",
    "                                                 random_state=42)"
   ]
  },
  {
   "cell_type": "code",
   "execution_count": 23,
   "metadata": {},
   "outputs": [
    {
     "name": "stdout",
     "output_type": "stream",
     "text": [
      "Scaling features...\n"
     ]
    }
   ],
   "source": [
    "# Scale features\n",
    "print('Scaling features...')\n",
    "scaler = StandardScaler()\n",
    "train_x = scaler.fit_transform(train_x)\n",
    "val_x = scaler.transform(val_x)\n",
    "test_x = scaler.transform(test_x)"
   ]
  },
  {
   "cell_type": "code",
   "execution_count": 24,
   "metadata": {},
   "outputs": [
    {
     "name": "stdout",
     "output_type": "stream",
     "text": [
      "Training model...\n"
     ]
    }
   ],
   "source": [
    "# Setup cross-validation\n",
    "cv = StratifiedKFold(n_splits=5, shuffle=True, random_state=42)\n",
    "\n",
    "# Define model and hyperparameters\n",
    "print('Training model...')\n",
    "model = XGBClassifier(random_state=42)\n",
    "param_grid = {\n",
    "    'learning_rate': [0.01, 0.1],\n",
    "    'max_depth': [3, 5],\n",
    "    'n_estimators': [100, 200]\n",
    "}"
   ]
  },
  {
   "cell_type": "code",
   "execution_count": 25,
   "metadata": {},
   "outputs": [],
   "source": [
    "# Perform grid search\n",
    "grid = GridSearchCV(\n",
    "    model,\n",
    "    param_grid,\n",
    "    cv=cv,\n",
    "    scoring='accuracy',\n",
    "    n_jobs=-1,\n",
    "    verbose=1\n",
    ")"
   ]
  },
  {
   "cell_type": "code",
   "execution_count": 26,
   "metadata": {},
   "outputs": [
    {
     "name": "stdout",
     "output_type": "stream",
     "text": [
      "Fitting 5 folds for each of 8 candidates, totalling 40 fits\n",
      "\n",
      "Evaluating model performance...\n",
      "Accuracy: 0.8215\n",
      "F1 Score: 0.7418\n",
      "Precision: 0.7795\n",
      "Recall: 0.8215\n"
     ]
    }
   ],
   "source": [
    "# Train model\n",
    "grid.fit(train_x, train_y)\n",
    "best_model = grid.best_estimator_\n",
    "\n",
    "# Evaluate model\n",
    "print('\\nEvaluating model performance...')\n",
    "val_y_pred = best_model.predict(val_x)\n",
    "metrics = {\n",
    "    'Accuracy': accuracy_score(val_y, val_y_pred),\n",
    "    'F1 Score': f1_score(val_y, val_y_pred, average='weighted'),\n",
    "    'Precision': precision_score(val_y, val_y_pred, average='weighted'),\n",
    "    'Recall': recall_score(val_y, val_y_pred, average='weighted')\n",
    "}\n",
    "\n",
    "for metric_name, score in metrics.items():\n",
    "    print(f'{metric_name}: {score:.4f}')"
   ]
  },
  {
   "cell_type": "code",
   "execution_count": 27,
   "metadata": {},
   "outputs": [
    {
     "name": "stdout",
     "output_type": "stream",
     "text": [
      "\n",
      "Making predictions on test set...\n",
      "Creating submission file...\n",
      "Submission file created successfully\n"
     ]
    }
   ],
   "source": [
    "# Make predictions\n",
    "print('\\nMaking predictions on test set...')\n",
    "y_pred = best_model.predict_proba(test_x)\n",
    "\n",
    "# Create submission file\n",
    "print('Creating submission file...')\n",
    "submission = pd.DataFrame(\n",
    "    data=y_pred, \n",
    "    columns=sample_submission.columns, \n",
    "    index=sample_submission.index\n",
    ")\n",
    "submission.to_csv('optimized_submission.csv', index=True)\n",
    "print('Submission file created successfully')"
   ]
  },
  {
   "cell_type": "code",
   "execution_count": 28,
   "metadata": {},
   "outputs": [
    {
     "name": "stdout",
     "output_type": "stream",
     "text": [
      "\n",
      "Best parameters found:\n",
      "learning_rate: 0.1\n",
      "max_depth: 5\n",
      "n_estimators: 100\n"
     ]
    }
   ],
   "source": [
    "# Print best parameters\n",
    "print('\\nBest parameters found:')\n",
    "for param, value in grid.best_params_.items():\n",
    "    print(f'{param}: {value}')"
   ]
  }
 ],
 "metadata": {
  "kernelspec": {
   "display_name": "ML",
   "language": "python",
   "name": "python3"
  },
  "language_info": {
   "codemirror_mode": {
    "name": "ipython",
    "version": 3
   },
   "file_extension": ".py",
   "mimetype": "text/x-python",
   "name": "python",
   "nbconvert_exporter": "python",
   "pygments_lexer": "ipython3",
   "version": "3.8.20"
  },
  "orig_nbformat": 4
 },
 "nbformat": 4,
 "nbformat_minor": 2
}
