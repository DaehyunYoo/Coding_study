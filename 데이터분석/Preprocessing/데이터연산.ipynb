{
 "cells": [
  {
   "cell_type": "code",
   "execution_count": 2,
   "metadata": {},
   "outputs": [],
   "source": [
    "import pandas as pd\n",
    "import numpy as np"
   ]
  },
  {
   "cell_type": "code",
   "execution_count": 3,
   "metadata": {},
   "outputs": [],
   "source": [
    "# 샘플 데이터 생성\n",
    "# 1. 학생 성적 데이터\n",
    "students_data = {\n",
    "    '이름': ['김철수', '이영희', '박민수', '정다운', '최지은'],\n",
    "    '수학': [90, 85, 77, 92, 88],\n",
    "    '영어': [85, 92, 86, 88, 95],\n",
    "    '과학': [88, 89, 82, 90, 87]\n",
    "}\n",
    "df_students = pd.DataFrame(students_data)"
   ]
  },
  {
   "cell_type": "code",
   "execution_count": 4,
   "metadata": {},
   "outputs": [],
   "source": [
    "# 2. 온라인 쇼핑몰 판매 데이터\n",
    "sales_data = {\n",
    "    '날짜': ['2024-01-01', '2024-01-01', '2024-01-02', '2024-01-02', '2024-01-03'],\n",
    "    '제품': ['A', 'B', 'A', 'B', 'A'],\n",
    "    '수량': [10, 15, 8, 12, 9],\n",
    "    '가격': [1000, 1500, 1000, 1500, 1000]\n",
    "}\n",
    "df_sales = pd.DataFrame(sales_data)\n",
    "df_sales['날짜'] = pd.to_datetime(df_sales['날짜'])"
   ]
  },
  {
   "cell_type": "code",
   "execution_count": 5,
   "metadata": {},
   "outputs": [],
   "source": [
    "# 3. 직원 급여 데이터\n",
    "employee_data = {\n",
    "    '부서': ['영업', '개발', '영업', '인사', '개발', '인사'],\n",
    "    '직급': ['대리', '과장', '사원', '대리', '사원', '과장'],\n",
    "    '기본급': [3000000, 4500000, 2800000, 3200000, 2900000, 4200000],\n",
    "    '성과급': [500000, 1000000, 300000, 400000, 350000, 900000]\n",
    "}\n",
    "df_employee = pd.DataFrame(employee_data)"
   ]
  },
  {
   "attachments": {},
   "cell_type": "markdown",
   "metadata": {},
   "source": [
    "# ============ 실습 문제 ================="
   ]
  },
  {
   "cell_type": "code",
   "execution_count": 6,
   "metadata": {},
   "outputs": [
    {
     "data": {
      "text/html": [
       "<div>\n",
       "<style scoped>\n",
       "    .dataframe tbody tr th:only-of-type {\n",
       "        vertical-align: middle;\n",
       "    }\n",
       "\n",
       "    .dataframe tbody tr th {\n",
       "        vertical-align: top;\n",
       "    }\n",
       "\n",
       "    .dataframe thead th {\n",
       "        text-align: right;\n",
       "    }\n",
       "</style>\n",
       "<table border=\"1\" class=\"dataframe\">\n",
       "  <thead>\n",
       "    <tr style=\"text-align: right;\">\n",
       "      <th></th>\n",
       "      <th>수학</th>\n",
       "      <th>영어</th>\n",
       "      <th>과학</th>\n",
       "      <th>평균</th>\n",
       "    </tr>\n",
       "    <tr>\n",
       "      <th>이름</th>\n",
       "      <th></th>\n",
       "      <th></th>\n",
       "      <th></th>\n",
       "      <th></th>\n",
       "    </tr>\n",
       "  </thead>\n",
       "  <tbody>\n",
       "    <tr>\n",
       "      <th>김철수</th>\n",
       "      <td>90</td>\n",
       "      <td>85</td>\n",
       "      <td>88</td>\n",
       "      <td>87.666667</td>\n",
       "    </tr>\n",
       "    <tr>\n",
       "      <th>이영희</th>\n",
       "      <td>85</td>\n",
       "      <td>92</td>\n",
       "      <td>89</td>\n",
       "      <td>88.666667</td>\n",
       "    </tr>\n",
       "    <tr>\n",
       "      <th>박민수</th>\n",
       "      <td>77</td>\n",
       "      <td>86</td>\n",
       "      <td>82</td>\n",
       "      <td>81.666667</td>\n",
       "    </tr>\n",
       "    <tr>\n",
       "      <th>정다운</th>\n",
       "      <td>92</td>\n",
       "      <td>88</td>\n",
       "      <td>90</td>\n",
       "      <td>90.000000</td>\n",
       "    </tr>\n",
       "    <tr>\n",
       "      <th>최지은</th>\n",
       "      <td>88</td>\n",
       "      <td>95</td>\n",
       "      <td>87</td>\n",
       "      <td>90.000000</td>\n",
       "    </tr>\n",
       "  </tbody>\n",
       "</table>\n",
       "</div>"
      ],
      "text/plain": [
       "     수학  영어  과학         평균\n",
       "이름                        \n",
       "김철수  90  85  88  87.666667\n",
       "이영희  85  92  89  88.666667\n",
       "박민수  77  86  82  81.666667\n",
       "정다운  92  88  90  90.000000\n",
       "최지은  88  95  87  90.000000"
      ]
     },
     "execution_count": 6,
     "metadata": {},
     "output_type": "execute_result"
    }
   ],
   "source": [
    "\"\"\"\n",
    "문제 1: 학생별 평균 점수 계산\n",
    "- df_students를 사용하여 각 학생의 전체 과목 평균 점수를 계산하세요.\n",
    "- 평균 점수를 기준으로 내림차순 정렬하세요.\n",
    "\"\"\"\n",
    "\n",
    "result = df_students.set_index('이름') # result는 df_students의 '이름' 열을 인덱스로 설정한 DataFrame\n",
    "result['평균']  = result.mean(axis = 1) # axis = 1 : 행 방향으로 계산\n",
    "result.sort_values('평균', ascending=False)\n",
    "result.head()"
   ]
  },
  {
   "cell_type": "code",
   "execution_count": 7,
   "metadata": {},
   "outputs": [
    {
     "name": "stdout",
     "output_type": "stream",
     "text": [
      "      평균  최고점  최저점\n",
      "수학  86.4   92   77\n",
      "영어  89.2   95   85\n",
      "과학  87.2   90   82\n"
     ]
    },
    {
     "data": {
      "text/html": [
       "<div>\n",
       "<style scoped>\n",
       "    .dataframe tbody tr th:only-of-type {\n",
       "        vertical-align: middle;\n",
       "    }\n",
       "\n",
       "    .dataframe tbody tr th {\n",
       "        vertical-align: top;\n",
       "    }\n",
       "\n",
       "    .dataframe thead th {\n",
       "        text-align: right;\n",
       "    }\n",
       "</style>\n",
       "<table border=\"1\" class=\"dataframe\">\n",
       "  <thead>\n",
       "    <tr style=\"text-align: right;\">\n",
       "      <th></th>\n",
       "      <th>평균</th>\n",
       "      <th>최고점</th>\n",
       "      <th>최저점</th>\n",
       "    </tr>\n",
       "  </thead>\n",
       "  <tbody>\n",
       "    <tr>\n",
       "      <th>영어</th>\n",
       "      <td>89.2</td>\n",
       "      <td>95</td>\n",
       "      <td>85</td>\n",
       "    </tr>\n",
       "    <tr>\n",
       "      <th>과학</th>\n",
       "      <td>87.2</td>\n",
       "      <td>90</td>\n",
       "      <td>82</td>\n",
       "    </tr>\n",
       "    <tr>\n",
       "      <th>수학</th>\n",
       "      <td>86.4</td>\n",
       "      <td>92</td>\n",
       "      <td>77</td>\n",
       "    </tr>\n",
       "  </tbody>\n",
       "</table>\n",
       "</div>"
      ],
      "text/plain": [
       "      평균  최고점  최저점\n",
       "영어  89.2   95   85\n",
       "과학  87.2   90   82\n",
       "수학  86.4   92   77"
      ]
     },
     "execution_count": 7,
     "metadata": {},
     "output_type": "execute_result"
    }
   ],
   "source": [
    "\"\"\"\n",
    "문제 2: 과목별 클래스 통계\n",
    "- 각 과목의 평균, 최고점, 최저점을 계산하세요.\n",
    "- 결과는 과목을 행으로, 통계값을 열로 가지는 DataFrame이어야 합니다.\n",
    "\"\"\"\n",
    "subjects = df_students.drop('이름', axis = 1)\n",
    "stats = pd.DataFrame({\n",
    "    '평균': subjects.mean(),\n",
    "    '최고점': subjects.max(),\n",
    "    '최저점': subjects.min()\n",
    "})\n",
    "print(stats)\n",
    "stats.sort_values('평균', ascending=False)"
   ]
  },
  {
   "cell_type": "code",
   "execution_count": 8,
   "metadata": {},
   "outputs": [
    {
     "data": {
      "text/html": [
       "<div>\n",
       "<style scoped>\n",
       "    .dataframe tbody tr th:only-of-type {\n",
       "        vertical-align: middle;\n",
       "    }\n",
       "\n",
       "    .dataframe tbody tr th {\n",
       "        vertical-align: top;\n",
       "    }\n",
       "\n",
       "    .dataframe thead th {\n",
       "        text-align: right;\n",
       "    }\n",
       "</style>\n",
       "<table border=\"1\" class=\"dataframe\">\n",
       "  <thead>\n",
       "    <tr style=\"text-align: right;\">\n",
       "      <th></th>\n",
       "      <th>날짜</th>\n",
       "      <th>매출액</th>\n",
       "    </tr>\n",
       "  </thead>\n",
       "  <tbody>\n",
       "    <tr>\n",
       "      <th>0</th>\n",
       "      <td>2024-01-01</td>\n",
       "      <td>32500</td>\n",
       "    </tr>\n",
       "    <tr>\n",
       "      <th>1</th>\n",
       "      <td>2024-01-02</td>\n",
       "      <td>26000</td>\n",
       "    </tr>\n",
       "    <tr>\n",
       "      <th>2</th>\n",
       "      <td>2024-01-03</td>\n",
       "      <td>9000</td>\n",
       "    </tr>\n",
       "  </tbody>\n",
       "</table>\n",
       "</div>"
      ],
      "text/plain": [
       "          날짜    매출액\n",
       "0 2024-01-01  32500\n",
       "1 2024-01-02  26000\n",
       "2 2024-01-03   9000"
      ]
     },
     "execution_count": 8,
     "metadata": {},
     "output_type": "execute_result"
    }
   ],
   "source": [
    "\"\"\"\n",
    "문제 3: 일별 총 매출액 계산\n",
    "- df_sales를 사용하여 날짜별 총 매출액을 계산하세요.\n",
    "- 매출액 = 수량 * 가격\n",
    "\"\"\"\n",
    "df_sales['매출액'] = df_sales['수량'] * df_sales['가격']\n",
    "# df_sales.groupby('날짜')\n",
    "# df_sales.groupby('날짜')['매출액'].sum()\n",
    "df_sales.groupby('날짜')['매출액'].sum().reset_index()"
   ]
  },
  {
   "cell_type": "code",
   "execution_count": 9,
   "metadata": {},
   "outputs": [
    {
     "data": {
      "text/plain": [
       "제품\n",
       "B    13.5\n",
       "A     9.0\n",
       "Name: 수량, dtype: float64"
      ]
     },
     "execution_count": 9,
     "metadata": {},
     "output_type": "execute_result"
    }
   ],
   "source": [
    "\"\"\"\n",
    "문제 4: 제품별 평균 판매 수량\n",
    "- 각 제품의 평균 판매 수량을 계산하고,\n",
    "- 평균 수량이 높은 순서대로 정렬하세요.\n",
    "\"\"\"\n",
    "df_sales.groupby('제품')['수량'].mean().sort_values(ascending=False)"
   ]
  },
  {
   "cell_type": "code",
   "execution_count": 10,
   "metadata": {},
   "outputs": [
    {
     "data": {
      "text/plain": [
       "부서\n",
       "개발    4375000.0\n",
       "인사    4350000.0\n",
       "영업    3300000.0\n",
       "Name: 연봉, dtype: float64"
      ]
     },
     "execution_count": 10,
     "metadata": {},
     "output_type": "execute_result"
    }
   ],
   "source": [
    "\"\"\"\n",
    "문제 5: 부서별 평균 연봉 계산\n",
    "- df_employee를 사용하여 각 부서의 평균 연봉을 계산하세요.\n",
    "- 연봉 = 기본급 + 성과급\n",
    "\"\"\"\n",
    "df_employee['연봉'] = df_employee['기본급'] + df_employee['성과급']\n",
    "df_employee.groupby('부서')['연봉'].mean().sort_values(ascending=False)"
   ]
  },
  {
   "cell_type": "code",
   "execution_count": 12,
   "metadata": {},
   "outputs": [
    {
     "name": "stdout",
     "output_type": "stream",
     "text": [
      "   부서  직급      기본급      성과급       연봉  성과급비율\n",
      "0  영업  대리  3000000   500000  3500000  16.67\n",
      "1  개발  과장  4500000  1000000  5500000  22.22\n",
      "2  영업  사원  2800000   300000  3100000  10.71\n",
      "3  인사  대리  3200000   400000  3600000  12.50\n",
      "4  개발  사원  2900000   350000  3250000  12.07\n",
      "5  인사  과장  4200000   900000  5100000  21.43\n"
     ]
    }
   ],
   "source": [
    "\"\"\"\n",
    "문제 6: 직급별 성과급 비율\n",
    "- 각 직급별로 성과급이 기본급에서 차지하는 비율을 계산하세요.\n",
    "- 결과는 백분율로 표시하세요.\n",
    "\"\"\"\n",
    "df_employee['성과급비율'] = (df_employee['성과급'] / df_employee['기본급'] * 100).round(2)\n",
    "df_employee.groupby('직급')['성과급비율']\n",
    "print(df_employee)"
   ]
  },
  {
   "cell_type": "code",
   "execution_count": 14,
   "metadata": {},
   "outputs": [
    {
     "name": "stdout",
     "output_type": "stream",
     "text": [
      "   부서         연봉\n",
      "0  개발  4375000.0\n",
      "1  영업  3300000.0\n",
      "2  인사  4350000.0\n"
     ]
    }
   ],
   "source": [
    "df_employee['연봉'] = df_employee['기본급'] + df_employee['성과급']\n",
    "dept_salary = df_employee.groupby('부서')['연봉'].mean().reset_index()\n",
    "print(dept_salary)"
   ]
  },
  {
   "cell_type": "code",
   "execution_count": 15,
   "metadata": {},
   "outputs": [
    {
     "data": {
      "text/plain": [
       "'부서,연봉\\n개발,4375000.0\\n영업,3300000.0\\n인사,4350000.0\\n'"
      ]
     },
     "execution_count": 15,
     "metadata": {},
     "output_type": "execute_result"
    }
   ],
   "source": [
    "dept_salary.to_csv(index=False, encoding='utf-8-sig')"
   ]
  },
  {
   "cell_type": "code",
   "execution_count": 17,
   "metadata": {},
   "outputs": [
    {
     "data": {
      "text/html": [
       "<div>\n",
       "<style scoped>\n",
       "    .dataframe tbody tr th:only-of-type {\n",
       "        vertical-align: middle;\n",
       "    }\n",
       "\n",
       "    .dataframe tbody tr th {\n",
       "        vertical-align: top;\n",
       "    }\n",
       "\n",
       "    .dataframe thead th {\n",
       "        text-align: right;\n",
       "    }\n",
       "</style>\n",
       "<table border=\"1\" class=\"dataframe\">\n",
       "  <thead>\n",
       "    <tr style=\"text-align: right;\">\n",
       "      <th></th>\n",
       "      <th>이름</th>\n",
       "      <th>수학</th>\n",
       "      <th>영어</th>\n",
       "      <th>과학</th>\n",
       "    </tr>\n",
       "  </thead>\n",
       "  <tbody>\n",
       "    <tr>\n",
       "      <th>0</th>\n",
       "      <td>김철수</td>\n",
       "      <td>3.6</td>\n",
       "      <td>-4.2</td>\n",
       "      <td>0.8</td>\n",
       "    </tr>\n",
       "    <tr>\n",
       "      <th>1</th>\n",
       "      <td>이영희</td>\n",
       "      <td>-1.4</td>\n",
       "      <td>2.8</td>\n",
       "      <td>1.8</td>\n",
       "    </tr>\n",
       "    <tr>\n",
       "      <th>2</th>\n",
       "      <td>박민수</td>\n",
       "      <td>-9.4</td>\n",
       "      <td>-3.2</td>\n",
       "      <td>-5.2</td>\n",
       "    </tr>\n",
       "    <tr>\n",
       "      <th>3</th>\n",
       "      <td>정다운</td>\n",
       "      <td>5.6</td>\n",
       "      <td>-1.2</td>\n",
       "      <td>2.8</td>\n",
       "    </tr>\n",
       "    <tr>\n",
       "      <th>4</th>\n",
       "      <td>최지은</td>\n",
       "      <td>1.6</td>\n",
       "      <td>5.8</td>\n",
       "      <td>-0.2</td>\n",
       "    </tr>\n",
       "  </tbody>\n",
       "</table>\n",
       "</div>"
      ],
      "text/plain": [
       "    이름   수학   영어   과학\n",
       "0  김철수  3.6 -4.2  0.8\n",
       "1  이영희 -1.4  2.8  1.8\n",
       "2  박민수 -9.4 -3.2 -5.2\n",
       "3  정다운  5.6 -1.2  2.8\n",
       "4  최지은  1.6  5.8 -0.2"
      ]
     },
     "execution_count": 17,
     "metadata": {},
     "output_type": "execute_result"
    }
   ],
   "source": [
    "\"\"\"\n",
    "문제 7: 학생들의 과목별 편차\n",
    "- 각 과목별 평균을 구하고, \n",
    "- 학생별로 과목 점수가 평균과 얼마나 차이나는지 계산하세요.\n",
    "\"\"\"\n",
    "subjects = df_students.drop('이름', axis=1)\n",
    "means = subjects.mean()\n",
    "deviations = subjects.subtract(means)\n",
    "pd.concat([df_students['이름'], deviations], axis=1)"
   ]
  },
  {
   "cell_type": "code",
   "execution_count": 20,
   "metadata": {},
   "outputs": [
    {
     "data": {
      "text/plain": [
       "날짜\n",
       "2024-01-01    32500\n",
       "2024-01-02    26000\n",
       "2024-01-03     9000\n",
       "Name: 매출액, dtype: int64"
      ]
     },
     "execution_count": 20,
     "metadata": {},
     "output_type": "execute_result"
    }
   ],
   "source": [
    "\"\"\"\n",
    "문제 8: 매출 증감률 계산\n",
    "- 일별 매출액을 기준으로 전날 대비 증감률을 계산하세요.\n",
    "- 결과는 백분율로 표시하세요.\n",
    "\"\"\"\n",
    "daily_sales = df_sales.groupby('날짜')['매출액'].sum()\n",
    "daily_sales.pct_change() * 100\n",
    "daily_sales"
   ]
  },
  {
   "cell_type": "code",
   "execution_count": 27,
   "metadata": {},
   "outputs": [
    {
     "name": "stdout",
     "output_type": "stream",
     "text": [
      "    이름 등급\n",
      "0  김철수  B\n",
      "1  이영희  B\n",
      "2  박민수  C\n",
      "3  최영희  A\n",
      "4  장민준  A\n"
     ]
    }
   ],
   "source": [
    "import pandas as pd\n",
    "\n",
    "# 학생 성적 데이터 생성\n",
    "data = {\n",
    "    '이름': ['김철수', '이영희', '박민수', '최영희', '장민준'],\n",
    "    '국어': [85, 92, 76, 88, 95],\n",
    "    '영어': [78, 85, 80, 90, 88],\n",
    "    '수학': [90, 88, 82, 95, 92],\n",
    "    '과학': [82, 91, 79, 89, 94]\n",
    "}\n",
    "\n",
    "df = pd.DataFrame(data)\n",
    "\n",
    "# 평균 점수 계산\n",
    "df['평균'] = (df['국어'] + df['영어'] + df['수학'] + df['과학']) / 4\n",
    "\n",
    "# 등급 부여 (반복문과 조건문 사용)\n",
    "grades = []\n",
    "for avg in df['평균']:\n",
    "    if avg >= 90:\n",
    "        grades.append('A')\n",
    "    elif avg >= 80:\n",
    "        grades.append('B')\n",
    "    elif avg >= 70:\n",
    "        grades.append('C')\n",
    "    elif avg >= 60:\n",
    "        grades.append('D')\n",
    "    else:\n",
    "        grades.append('F')\n",
    "\n",
    "df['등급'] = grades\n",
    "\n",
    "# '이름'과 '등급'만 남기기\n",
    "result_df = df[['이름', '등급']]\n",
    "\n",
    "# CSV 파일로 내보내기\n",
    "result_df.to_csv('학생등급.csv', index=False, encoding='utf-8-sig')\n",
    "\n",
    "# 결과 출력\n",
    "print(result_df)"
   ]
  },
  {
   "cell_type": "code",
   "execution_count": 1,
   "metadata": {},
   "outputs": [],
   "source": [
    "import pandas as pd\n",
    "import numpy as np\n",
    "from datetime import datetime\n",
    "\n",
    "# 샘플 데이터 생성\n",
    "df = pd.DataFrame({\n",
    "    'date': ['2024-01-01', '2024-01-02', '2024-01-03', '2024-01-04', '2024-01-05'],\n",
    "    'sales': [100, 150, np.nan, 200, 120],\n",
    "    'category': ['A', 'B', 'A', 'B', 'A'],\n",
    "    'price': [1000, 2000, 1500, np.nan, 1800]\n",
    "})\n"
   ]
  },
  {
   "cell_type": "code",
   "execution_count": 2,
   "metadata": {},
   "outputs": [],
   "source": [
    "df['sales_avg'] = df['sales'].mean()\n",
    "df['price_mode'] = df['price'].mode()[0]\n",
    "df['sales_cumsum'] = df['sales'].cumsum()"
   ]
  },
  {
   "cell_type": "code",
   "execution_count": 3,
   "metadata": {},
   "outputs": [],
   "source": [
    "df['sales'] = df['sales'].fillna(df['sales'].mean())\n",
    "df['price'] = df['price'].fillna(df['price'].mean())"
   ]
  },
  {
   "cell_type": "code",
   "execution_count": 9,
   "metadata": {},
   "outputs": [],
   "source": [
    "df['category_sales'] = df.groupby('category')['sales'].mean()\n",
    "df['category_sales'].to_csv('category.csv', index=True)\n",
    "# df_employee.groupby('부서')['연봉'].mean().sort_values(ascending=False)"
   ]
  },
  {
   "cell_type": "code",
   "execution_count": null,
   "metadata": {},
   "outputs": [],
   "source": []
  }
 ],
 "metadata": {
  "kernelspec": {
   "display_name": "ML",
   "language": "python",
   "name": "python3"
  },
  "language_info": {
   "codemirror_mode": {
    "name": "ipython",
    "version": 3
   },
   "file_extension": ".py",
   "mimetype": "text/x-python",
   "name": "python",
   "nbconvert_exporter": "python",
   "pygments_lexer": "ipython3",
   "version": "3.9.18"
  },
  "orig_nbformat": 4
 },
 "nbformat": 4,
 "nbformat_minor": 2
}
