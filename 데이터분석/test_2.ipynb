{
 "cells": [
  {
   "cell_type": "code",
   "execution_count": 1,
   "metadata": {},
   "outputs": [],
   "source": [
    "import pandas as pd\n",
    "\n",
    "# 샘플 데이터 생성\n",
    "data = {\n",
    "    \"stn_code\": [1, 2, 3, 4, 5],\n",
    "    \"state\": [\"State1\", \"State2\", \"State3\", \"State4\", \"State5\"],\n",
    "    \"location\": [\"City1\", \"City2\", \"City3\", \"City4\", \"City5\"],\n",
    "    \"type\": [\"Residential\", \"Industrial\", \"Residential\", \"Urban\", \"Suburban\"],\n",
    "    \"so2\": [10, 20, 30, 40, 50],\n",
    "    \"no2\": [25, 35, 45, 55, 65],\n",
    "    \"location_monitoring_station\": [\"Station1\", \"Station2\", \"Station3\", \"Station4\", \"Station5\"],\n",
    "    \"pm2_5\": [15, 37, 10, 85, None],\n",
    "    \"date\": [\"2024-11-01\", \"2024-11-02\", \"2024-11-03\", \"2024-11-04\", \"2024-11-05\"],\n",
    "}"
   ]
  },
  {
   "cell_type": "code",
   "execution_count": 2,
   "metadata": {},
   "outputs": [],
   "source": [
    "# 데이터프레임 생성\n",
    "df = pd.DataFrame(data)\n",
    "\n",
    "# pm2_5가 결측치인 행 제거\n",
    "df_cleaned = df.dropna(subset=[\"pm2_5\"])"
   ]
  },
  {
   "cell_type": "code",
   "execution_count": 3,
   "metadata": {},
   "outputs": [
    {
     "name": "stderr",
     "output_type": "stream",
     "text": [
      "/tmp/ipykernel_331255/3454911508.py:12: SettingWithCopyWarning: \n",
      "A value is trying to be set on a copy of a slice from a DataFrame.\n",
      "Try using .loc[row_indexer,col_indexer] = value instead\n",
      "\n",
      "See the caveats in the documentation: https://pandas.pydata.org/pandas-docs/stable/user_guide/indexing.html#returning-a-view-versus-a-copy\n",
      "  df_cleaned[\"예보 등급\"] = df_cleaned[\"pm2_5\"].apply(categorize_pm25)\n"
     ]
    }
   ],
   "source": [
    "# pm2_5 농도에 따른 예보 등급 생성\n",
    "def categorize_pm25(value):\n",
    "    if value >= 76:\n",
    "        return \"매우 나쁨\"\n",
    "    elif value >= 36:\n",
    "        return \"나쁨\"\n",
    "    elif value >= 16:\n",
    "        return \"보통\"\n",
    "    else:\n",
    "        return \"좋음\"\n",
    "\n",
    "df_cleaned[\"예보 등급\"] = df_cleaned[\"pm2_5\"].apply(categorize_pm25)"
   ]
  },
  {
   "cell_type": "code",
   "execution_count": 4,
   "metadata": {},
   "outputs": [
    {
     "data": {
      "text/html": [
       "<div>\n",
       "<style scoped>\n",
       "    .dataframe tbody tr th:only-of-type {\n",
       "        vertical-align: middle;\n",
       "    }\n",
       "\n",
       "    .dataframe tbody tr th {\n",
       "        vertical-align: top;\n",
       "    }\n",
       "\n",
       "    .dataframe thead th {\n",
       "        text-align: right;\n",
       "    }\n",
       "</style>\n",
       "<table border=\"1\" class=\"dataframe\">\n",
       "  <thead>\n",
       "    <tr style=\"text-align: right;\">\n",
       "      <th></th>\n",
       "      <th>예보 등급</th>\n",
       "      <th>count</th>\n",
       "    </tr>\n",
       "  </thead>\n",
       "  <tbody>\n",
       "    <tr>\n",
       "      <th>0</th>\n",
       "      <td>매우 나쁨</td>\n",
       "      <td>1</td>\n",
       "    </tr>\n",
       "    <tr>\n",
       "      <th>1</th>\n",
       "      <td>나쁨</td>\n",
       "      <td>1</td>\n",
       "    </tr>\n",
       "    <tr>\n",
       "      <th>2</th>\n",
       "      <td>보통</td>\n",
       "      <td>0</td>\n",
       "    </tr>\n",
       "    <tr>\n",
       "      <th>3</th>\n",
       "      <td>좋음</td>\n",
       "      <td>2</td>\n",
       "    </tr>\n",
       "  </tbody>\n",
       "</table>\n",
       "</div>"
      ],
      "text/plain": [
       "   예보 등급  count\n",
       "0  매우 나쁨      1\n",
       "1     나쁨      1\n",
       "2     보통      0\n",
       "3     좋음      2"
      ]
     },
     "execution_count": 4,
     "metadata": {},
     "output_type": "execute_result"
    }
   ],
   "source": [
    "# 예보 등급별 count 계산\n",
    "forecast_counts = df_cleaned[\"예보 등급\"].value_counts().reindex([\"매우 나쁨\", \"나쁨\", \"보통\", \"좋음\"], fill_value=0).reset_index()\n",
    "forecast_counts.columns = [\"예보 등급\", \"count\"]\n",
    "\n",
    "# 결과 저장\n",
    "forecast_counts.to_csv(\"finedust_count.csv\", index=False, encoding=\"utf-8-sig\")\n",
    "\n",
    "# 결과 출력\n",
    "forecast_counts"
   ]
  },
  {
   "cell_type": "code",
   "execution_count": null,
   "metadata": {},
   "outputs": [],
   "source": []
  }
 ],
 "metadata": {
  "kernelspec": {
   "display_name": "ML",
   "language": "python",
   "name": "python3"
  },
  "language_info": {
   "codemirror_mode": {
    "name": "ipython",
    "version": 3
   },
   "file_extension": ".py",
   "mimetype": "text/x-python",
   "name": "python",
   "nbconvert_exporter": "python",
   "pygments_lexer": "ipython3",
   "version": "3.9.18"
  },
  "orig_nbformat": 4
 },
 "nbformat": 4,
 "nbformat_minor": 2
}
